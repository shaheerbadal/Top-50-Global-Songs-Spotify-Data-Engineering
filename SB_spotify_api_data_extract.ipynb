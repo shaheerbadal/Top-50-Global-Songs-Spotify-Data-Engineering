{
 "cells": [
  {
   "cell_type": "code",
   "execution_count": null,
   "id": "d5de03e8",
   "metadata": {},
   "outputs": [],
   "source": [
    "import json\n",
    "import os\n",
    "import spotipy\n",
    "from spotipy.oauth2 import SpotifyClientCredentials\n",
    "import boto3\n",
    "from datetime import datetime\n",
    "\n",
    "def lambda_handler(event, context):\n",
    "    \n",
    "    client_id = os.environ.get('client_id')\n",
    "    client_secret = os.environ.get('client_secret')\n",
    "    \n",
    "    client_credentials_manager = SpotifyClientCredentials(client_id=client_id,client_secret=client_secret)\n",
    "    sp= spotipy.Spotify(client_credentials_manager = client_credentials_manager)\n",
    "    playlists =  sp.user_playlists('spotify')\n",
    "    \n",
    "    playlist_link = \"https://open.spotify.com/playlist/37i9dQZEVXbNG2KDcFcKOF\"\n",
    "    playlist_URI = playlist_link.split(\"/\")[-1]\n",
    "    \n",
    "    spotify_data = sp.playlist_tracks(playlist_URI)\n",
    "    \n",
    "    print(spotify_data)\n",
    "    \n",
    "    client = boto3.client('s3')\n",
    "    \n",
    "    filename = \"spotify_raw_\" + str(datetime.now()) + \".json\"\n",
    "    \n",
    "    client.put_object(\n",
    "        Bucket=\"spotify-etl-project-shaheer\",\n",
    "        Key=\"raw_data/to_processed/\"+ filename,\n",
    "       Body=json.dumps(spotify_data)\n",
    "       )\n"
   ]
  }
 ],
 "metadata": {
  "kernelspec": {
   "display_name": "Python 3 (ipykernel)",
   "language": "python",
   "name": "python3"
  },
  "language_info": {
   "codemirror_mode": {
    "name": "ipython",
    "version": 3
   },
   "file_extension": ".py",
   "mimetype": "text/x-python",
   "name": "python",
   "nbconvert_exporter": "python",
   "pygments_lexer": "ipython3",
   "version": "3.10.9"
  }
 },
 "nbformat": 4,
 "nbformat_minor": 5
}
